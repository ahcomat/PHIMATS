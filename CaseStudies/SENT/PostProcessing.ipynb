{
 "cells": [
  {
   "cell_type": "code",
   "execution_count": 5,
   "metadata": {},
   "outputs": [],
   "source": [
    "import h5py\n",
    "import numpy as np\n",
    "import meshio\n",
    "\n",
    "import matplotlib.pyplot as plt\n",
    "\n",
    "#Set fonts\n",
    "from matplotlib import rc, rcParams, cm\n",
    "rc('font', **{'family': 'sans-serif', 'sans-serif': ['Arial']})"
   ]
  },
  {
   "cell_type": "code",
   "execution_count": 6,
   "metadata": {},
   "outputs": [],
   "source": [
    "# Plotting function\n",
    "def PlotLine(y = 2*56.25/25.4, x = 1.5*56.25/25.4, dpi=100):\n",
    "    fig, ax = plt.subplots(figsize=(y, x), dpi=dpi, tight_layout=True)\n",
    "    return ax"
   ]
  },
  {
   "cell_type": "code",
   "execution_count": 7,
   "metadata": {},
   "outputs": [],
   "source": [
    "def getTopY_DOFs(mesh, ly, nDim):\n",
    "    \n",
    "    topY_DOFs = []\n",
    "\n",
    "    # Number of nodes\n",
    "    nNodes = mesh.points.shape[0]  \n",
    "    # Node coordinates\n",
    "    nodeCoord = mesh.points\n",
    "\n",
    "    for iNod in range(nNodes):\n",
    "        # top nodes\n",
    "        if nodeCoord[iNod][1]==ly:\n",
    "            topY_DOFs.append(nDim*iNod + 1)\n",
    "    \n",
    "    return topY_DOFs"
   ]
  },
  {
   "cell_type": "code",
   "execution_count": 8,
   "metadata": {},
   "outputs": [],
   "source": [
    "# Read nodes and node coordinate from mesh file\n",
    "mesh = meshio.read(\"SENT.inp\")"
   ]
  },
  {
   "cell_type": "code",
   "execution_count": 9,
   "metadata": {},
   "outputs": [],
   "source": [
    "dofyt = int(2*5+1)\n",
    "dofyb = int(2*2+1)\n",
    "\n",
    "nSteps = 200\n",
    "topY_DOFs = getTopY_DOFs(mesh, 52e-3, 2)\n",
    "force_y = np.zeros((nSteps))\n",
    "disp_y = np.zeros((nSteps))\n",
    "CMOD = np.zeros((nSteps))"
   ]
  },
  {
   "cell_type": "code",
   "execution_count": 19,
   "metadata": {},
   "outputs": [],
   "source": [
    "SimulName = \"SENT_EPTH\"\n",
    "\n",
    "with h5py.File(\"Mech_\"+SimulName+\"_out.hdf5\", \"a\") as fh5:\n",
    "    \n",
    "    for iStep in range(nSteps):\n",
    "        \n",
    "        force_y[iStep] = fh5[\"Force/Step_\"+str(iStep)][()][topY_DOFs].sum()*12.5e-3\n",
    "        disp_y[iStep] = fh5[\"Disp/Step_\"+str(iStep)][()][topY_DOFs].sum()/len(topY_DOFs)\n",
    "        yt = fh5[\"Disp/Step_\"+str(iStep)][()][dofyt]\n",
    "        yb = fh5[\"Disp/Step_\"+str(iStep)][()][dofyb]\n",
    "        CMOD[iStep] = yt-yb\n"
   ]
  },
  {
   "cell_type": "code",
   "execution_count": null,
   "metadata": {},
   "outputs": [
    {
     "data": {
      "text/plain": [
       "Text(0, 0.5, 'Force (kN)')"
      ]
     },
     "execution_count": 20,
     "metadata": {},
     "output_type": "execute_result"
    },
    {
     "data": {
      "image/png": "[encoded data removed]",
      "text/plain": [
       "<Figure size 442.913x332.185 with 1 Axes>"
      ]
     },
     "metadata": {},
     "output_type": "display_data"
    }
   ],
   "source": [
    "ax = PlotLine()\n",
    "\n",
    "ax.plot(CMOD*1000, force_y/1000,\"r\", lw=2)\n",
    "\n",
    "ax.set_xlabel(\"CMOD (mm)\")\n",
    "ax.set_ylabel(\"Force (kN)\")\n",
    "\n",
    "plt.savefig(\"F_CMOD.svg\", transparent=True)"
   ]
  },
  {
   "cell_type": "code",
   "execution_count": null,
   "metadata": {},
   "outputs": [],
   "source": []
  }
 ],
 "metadata": {
  "kernelspec": {
   "display_name": "MainEnv",
   "language": "python",
   "name": "python3"
  },
  "language_info": {
   "codemirror_mode": {
    "name": "ipython",
    "version": 3
   },
   "file_extension": ".py",
   "mimetype": "text/x-python",
   "name": "python",
   "nbconvert_exporter": "python",
   "pygments_lexer": "ipython3",
   "version": "3.12.7"
  }
 },
 "nbformat": 4,
 "nbformat_minor": 2
}
