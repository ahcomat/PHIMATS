{
 "cells": [
  {
   "cell_type": "markdown",
   "metadata": {},
   "source": [
    "**NOTE** `phimats` environment should be used as kernel"
   ]
  },
  {
   "cell_type": "code",
   "execution_count": 63,
   "metadata": {},
   "outputs": [],
   "source": [
    "from importlib import reload\n",
    "\n",
    "import numpy as np\n",
    "\n",
    "import PreProcessing\n",
    "from PreProcessing import PreProcessing as PP, ReadMesh\n",
    "\n",
    "import BoundaryConditions\n",
    "from BoundaryConditions import *\n",
    "\n",
    "import PostProcessing\n",
    "from PostProcessing import WriteXDMF"
   ]
  },
  {
   "cell_type": "markdown",
   "metadata": {},
   "source": [
    "### Simulation data"
   ]
  },
  {
   "cell_type": "code",
   "execution_count": 64,
   "metadata": {},
   "outputs": [],
   "source": [
    "SimulName = \"SENT_EPTH\"\n",
    "# Element sets\n",
    "nElementSets = 1\n",
    "# Number of steps to achieve the load\n",
    "nSteps = 220"
   ]
  },
  {
   "cell_type": "markdown",
   "metadata": {},
   "source": [
    "### Read mesh file"
   ]
  },
  {
   "cell_type": "code",
   "execution_count": 65,
   "metadata": {},
   "outputs": [
    {
     "name": "stdout",
     "output_type": "stream",
     "text": [
      "<meshio mesh object>\n",
      "  Number of points: 29739\n",
      "  Number of cells:\n",
      "    quad: 29390\n",
      "  Point sets: SENT\n",
      "  Cell sets: SENT\n"
     ]
    }
   ],
   "source": [
    "# Path to .inp mesh file\n",
    "modelName = \"../SENT\"\n",
    "\n",
    "mesh = ReadMesh(modelName)\n",
    "print(mesh)"
   ]
  },
  {
   "cell_type": "markdown",
   "metadata": {},
   "source": [
    "### Element data"
   ]
  },
  {
   "cell_type": "code",
   "execution_count": 66,
   "metadata": {},
   "outputs": [],
   "source": [
    "# Element name\n",
    "elementName = \"quad\"  \t\t# meshio compatible element name\n",
    "nNodes = mesh.points.shape[0]            # Total number of nodes\n",
    "nodCoord = mesh.points[:,0:2]            # Node coordinates\n",
    "nElements = mesh.cells_dict[elementName].data.shape[0]  # Total number of elements\n",
    "elemNodeConn = mesh.cells_dict[elementName]        # Node connectivity for all elements"
   ]
  },
  {
   "cell_type": "markdown",
   "metadata": {},
   "source": [
    "### Mechanical material data"
   ]
  },
  {
   "cell_type": "code",
   "execution_count": null,
   "metadata": {},
   "outputs": [],
   "source": [
    "# Analysis type\n",
    "AnalysisType = \"PlaneStrainPFF\"\n",
    "# Isotropy\n",
    "Isotropy = \"Isotropic\"\n",
    "# Young's modulus\n",
    "Emod = 210e9\n",
    "# Poisson's ratio\n",
    "nu = 0.3\n",
    "\n",
    "# Plasticity type\n",
    "Plasticity = \"IsoHard\"\n",
    "HardeningLaw = \"PowerLaw\"\n",
    "sig_y0 = 500e6    # Pa\n",
    "K_hard = 885.5e6    # Pa\n",
    "n_pow = 0.097\n",
    "\n",
    "# Dislocation evolution (only if you need the normalized dislocation density output, otherwise, set them to zero)\n",
    "\n",
    "rho_0 = 1e10  # Initial dislocation density (m⁻²)\n",
    "M = 3 \t\t  # Taylor factor\n",
    "alpha = 0.3   # Dislocation interaction constant\n",
    "b = 2.5e-10   # Burgers vector (m)\n",
    "G = Emod/(2*(1+nu)) # Shear modulus\n",
    "k1 = 2*(G/(200*G*alpha*b))  # Multiplication coefficient\n",
    "k2 = 10  # Recovery coefficient\n",
    "\n",
    "MechMaterial = {\n",
    "\t\"Material_1\" : {\n",
    "\t\t\"Elastic\" : {\n",
    "\t\t\t\"AnalysisType\" : AnalysisType,\n",
    "\t\t\t\"Isotropy\" \t : Isotropy,\n",
    "\t\t\t\"Emod\" \t\t : Emod,\n",
    "\t\t\t\"nu\"   \t\t : nu,\n",
    "\t\t},\n",
    "\t\t\"Plastic\" : {\n",
    "\t\t\t\"Plasticity\"   : Plasticity,\n",
    "\t\t\t\"HardeningLaw\" : HardeningLaw,\n",
    "\t\t\t\"sig_y0\"       : sig_y0,\n",
    "\t\t\t\"K_hard\"       : K_hard,\n",
    "\t\t\t\"n_pow\"        : n_pow,\n",
    "   \t\t\t\"rho_0\"        : rho_0,\n",
    "\t\t\t\"M\"            : M,\n",
    "\t\t\t\"b\"            : b,\n",
    "\t\t\t\"alpha\"        : alpha,\n",
    "\t\t\t\"k1\"           : k1,\n",
    "   \t\t\t\"k2\"           : k2,\n",
    "\t\t},\n",
    "\t},\n",
    "}"
   ]
  },
  {
   "cell_type": "markdown",
   "metadata": {},
   "source": [
    "### PFF material data"
   ]
  },
  {
   "cell_type": "code",
   "execution_count": null,
   "metadata": {},
   "outputs": [
    {
     "name": "stdout",
     "output_type": "stream",
     "text": [
      "l:  3e-05  m\n",
      "Gc:  660.0  J/m²\n",
      "wc:  11000000.0  J/m³\n"
     ]
    }
   ],
   "source": [
    "const_ell = 3e-5     # Length-scale regularization parameter [m]\n",
    "wc = 11e6            # Critical work density [J/m³]\n",
    "Gc = 2*const_ell*wc\t # Fracture toughness [J/m²]\n",
    "\n",
    "PFFMaterial = {\n",
    "\t\"Material_1\" : {\n",
    "\t\t\"PFF\" : {\n",
    "\t\t\t\"const_ell\" : const_ell,\n",
    "\t\t\t\"wc\" \t    : wc,\n",
    "\t\t}\n",
    "    }\n",
    "}\n",
    "\n",
    "print(\"l: \", const_ell, \" m\")\n",
    "print(\"Gc: \", Gc, \" J/m²\")\n",
    "print(\"wc: \", wc, \" J/m³\")"
   ]
  },
  {
   "cell_type": "markdown",
   "metadata": {},
   "source": [
    "### Apply boundary conditions\n",
    "**NOTE** This is the total load to be achieved in `nSteps`."
   ]
  },
  {
   "cell_type": "code",
   "execution_count": 69,
   "metadata": {},
   "outputs": [],
   "source": [
    "lx = 8.5e-3    # width of the bar\n",
    "ly = 52e-3     # length of the bar\n",
    "\n",
    "yDisp = 2.2e-4  # y-disp for top nodes [m]\n",
    "\n",
    "presBCs = TensileDisp2D(ly, yDisp, mesh)\n",
    "\n",
    "# Write mesh for inspection \n",
    "BCmesh = WriteDispBCs(SimulName, \"quad\", mesh, presBCs)"
   ]
  },
  {
   "cell_type": "markdown",
   "metadata": {},
   "source": [
    "### Initialize simulation object"
   ]
  },
  {
   "cell_type": "markdown",
   "metadata": {},
   "source": [
    "### Mechanical"
   ]
  },
  {
   "cell_type": "code",
   "execution_count": 71,
   "metadata": {},
   "outputs": [
    {
     "name": "stdout",
     "output_type": "stream",
     "text": [
      "HDF5 file 'Mech_SENT_EPTH_in.hdf5' opened successfully in write mode.\n",
      "HDF5 file closed successfully.\n"
     ]
    }
   ],
   "source": [
    "# Simulation name\n",
    "Simul = \"Mech_\"+SimulName\n",
    "# Simulation type\n",
    "SimulType = \"Mechanical\"\n",
    "\n",
    "SimulationData = {\n",
    "    \"Simul\"            : Simul,\n",
    "\t\"SimulType\"\t\t   : SimulType,\n",
    "    \"mesh\"             : mesh,\n",
    "    \"elementName\"      : elementName,\n",
    "    \"nElementSets\"     : nElementSets,\n",
    "    \"presBCs\"          : presBCs,\n",
    "    \"nSteps\"           : nSteps,\n",
    "    \"Materials\"        : MechMaterial,\n",
    "}\n",
    "\n",
    "MechNotch = PP(SimulationData)\n",
    "MechNotch.WriteInputFile()"
   ]
  },
  {
   "cell_type": "code",
   "execution_count": 72,
   "metadata": {},
   "outputs": [],
   "source": [
    "# Create the output file Simul+\"_out.hdf5\" file\n",
    "MechNotch.WriteOutputFile(OVERWRITE=True)"
   ]
  },
  {
   "cell_type": "markdown",
   "metadata": {},
   "source": [
    "### PFF"
   ]
  },
  {
   "cell_type": "code",
   "execution_count": null,
   "metadata": {},
   "outputs": [
    {
     "name": "stdout",
     "output_type": "stream",
     "text": [
      "HDF5 file 'PFF_SENT_EPTH_in.hdf5' opened successfully in write mode.\n",
      "HDF5 file closed successfully.\n"
     ]
    }
   ],
   "source": [
    "# Simulation name\n",
    "Simul = \"PFF_\"+SimulName\n",
    "\n",
    "# Simulation type\n",
    "SimulType = \"PFF\"\n",
    "\n",
    "presBCs = []\n",
    "\n",
    "SimulationData = {\n",
    "    \"Simul\"            : Simul,\n",
    "\t\"SimulType\"\t\t   : SimulType,\n",
    "    \"mesh\"             : mesh,\n",
    "    \"elementName\"      : elementName,\n",
    "    \"nElementSets\"     : nElementSets,\n",
    "    \"presBCs\"          : presBCs,\n",
    "    \"nSteps\"           : nSteps,\n",
    "    \"Materials\"        : PFFMaterial,\n",
    "}\n",
    "\n",
    "PFFNotch = PP(SimulationData)\n",
    "PFFNotch.WriteInputFile()"
   ]
  },
  {
   "cell_type": "code",
   "execution_count": 75,
   "metadata": {},
   "outputs": [],
   "source": [
    "# Create the output file Simul+\"_out.hdf5\" file\n",
    "PFFNotch.WriteOutputFile(OVERWRITE=True)"
   ]
  },
  {
   "cell_type": "markdown",
   "metadata": {},
   "source": [
    "### Write the xdmf file"
   ]
  },
  {
   "cell_type": "code",
   "execution_count": null,
   "metadata": {},
   "outputs": [
    {
     "data": {
      "text/plain": [
       "<PostProcessing.WriteXDMF at 0x76b97eed15e0>"
      ]
     },
     "execution_count": 78,
     "metadata": {},
     "output_type": "execute_result"
    }
   ],
   "source": [
    "WriteXDMF(SimulName, elementName, nSteps+1, \"PFF2D\")"
   ]
  }
 ],
 "metadata": {
  "kernelspec": {
   "display_name": "MainEnv",
   "language": "python",
   "name": "python3"
  },
  "language_info": {
   "codemirror_mode": {
    "name": "ipython",
    "version": 3
   },
   "file_extension": ".py",
   "mimetype": "text/x-python",
   "name": "python",
   "nbconvert_exporter": "python",
   "pygments_lexer": "ipython3",
   "version": "3.13.0"
  }
 },
 "nbformat": 4,
 "nbformat_minor": 2
}
