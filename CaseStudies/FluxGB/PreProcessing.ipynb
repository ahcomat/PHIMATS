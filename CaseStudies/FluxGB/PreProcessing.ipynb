{
 "cells": [
  {
   "cell_type": "markdown",
   "metadata": {},
   "source": [
    "**NOTE** `phimats` environment should be used as kernel"
   ]
  },
  {
   "cell_type": "code",
   "execution_count": 5,
   "metadata": {},
   "outputs": [],
   "source": [
    "import h5py\n",
    "\n",
    "import PreProcessing\n",
    "from PreProcessing import PreProcessing as PP, ReadMesh\n",
    "\n",
    "import BoundaryConditions\n",
    "from BoundaryConditions import *\n",
    "\n",
    "import PostProcessing\n",
    "from PostProcessing import WriteXDMF"
   ]
  },
  {
   "cell_type": "markdown",
   "metadata": {},
   "source": [
    "### Simulation data"
   ]
  },
  {
   "cell_type": "code",
   "execution_count": null,
   "metadata": {},
   "outputs": [],
   "source": [
    "# Simulation name\n",
    "Simul = \"FluxGB\"\n",
    "# Simulation type\n",
    "SimulType = \"GBTrapping\"\n",
    "# Element name\n",
    "elementName = \"triangle\"  \n",
    "# Element sets\n",
    "nElementSets = 1\n",
    "# Number of steps to apply the load\n",
    "nSteps = 100"
   ]
  },
  {
   "cell_type": "markdown",
   "metadata": {},
   "source": [
    "### Read mesh file \n",
    "\n",
    "The mesh file is hosted on Zenodo due to its large size.  \n",
    "To download it, paste the command below into your terminal.  \n",
    "**Note:** Make sure you're in the desired working directory.\n",
    "\n",
    "```bash\n",
    "wget https://zenodo.org/records/15380594/files/RVE_mesh.inp\n",
    "```"
   ]
  },
  {
   "cell_type": "code",
   "execution_count": 4,
   "metadata": {},
   "outputs": [
    {
     "name": "stdout",
     "output_type": "stream",
     "text": [
      "<meshio mesh object>\n",
      "  Number of points: 1000000\n",
      "  Number of cells:\n",
      "    triangle: 1996002\n",
      "  Point sets: plate\n",
      "  Cell sets: plate\n"
     ]
    }
   ],
   "source": [
    "modelName = \"RVE_mesh\"\n",
    "\n",
    "mesh = ReadMesh(modelName)\n",
    "print(mesh)"
   ]
  },
  {
   "cell_type": "markdown",
   "metadata": {},
   "source": [
    "### Element data"
   ]
  },
  {
   "cell_type": "code",
   "execution_count": 15,
   "metadata": {},
   "outputs": [],
   "source": [
    "elementName = \"triangle\" \t# meshio compatible element name\n",
    "nNodes = mesh.points.shape[0]            # Total number of nodes\n",
    "nodCoord = mesh.points[:,0:2]            # Node coordinates\n",
    "nElements = mesh.cells_dict[elementName].data.shape[0]  # Total number of elements\n",
    "elemNodeConn = mesh.cells_dict[elementName]        # Node connectivity for all elements"
   ]
  },
  {
   "cell_type": "markdown",
   "metadata": {},
   "source": [
    "### Read phase-field data $g(\\phi)$"
   ]
  },
  {
   "cell_type": "code",
   "execution_count": 16,
   "metadata": {},
   "outputs": [],
   "source": [
    "# gPhi mapped to finite element mesh\n",
    "\n",
    "fh5 = h5py.File(\"RVE_GB.hdf5\", \"r\")\n",
    "\n",
    "try:\n",
    "\tgPhi = fh5[\"gPhi\"][()]    \n",
    "\tfh5.close()\n",
    "except:\n",
    "    fh5.close()\n"
   ]
  },
  {
   "cell_type": "markdown",
   "metadata": {},
   "source": [
    "## Diffusion and trapping data"
   ]
  },
  {
   "cell_type": "code",
   "execution_count": 17,
   "metadata": {},
   "outputs": [
    {
     "name": "stdout",
     "output_type": "stream",
     "text": [
      "KGB:  55.09607620783739\n",
      "4.080295e-09\n",
      "cL 0.003453\n",
      "c_GB 0.01585389592880521\n",
      "Z_gb 4.591339683986449\n",
      "zeta_gb 15207.20386088472\n",
      "Eq Con GB:  4.591339683986449\n",
      "Eq Con TJ:  7.477562307558887\n"
     ]
    }
   ],
   "source": [
    "# Diffusivity data\n",
    "T = 300                    # Temperature [K]\n",
    "R = 8.31446261815324       # Universal gas constant [J/mol.K]\n",
    "dt = 10e-3  \t\t\t   # Time increment [s]\n",
    "N = 6          \t# Number of interstitial sites per reference lattice atom [tetrahedral sites in BCC]\n",
    "\n",
    "D01 = 8.45e-8; DQ1 = 5000  # Reference lattice diffusivity m²/s\n",
    "DL = D01*np.exp(-DQ1/(R*T))\n",
    "\n",
    "D02 = 8.45e-8; DQ2 = 5000  # GB diffusivity m²/s\n",
    "DT = D02*np.exp(-DQ2/(R*T))\n",
    "\n",
    "HGB = 10000 # GB enrichment enthalpy[J/mol]\n",
    "\n",
    "Vm = 7.09e-6  # Molar volume of Fe [m³/mol]\n",
    "Vgb = 2*Vm    # Molar volume around GBs  [m³/mol]\n",
    "\n",
    "kappa_GB = 4*N*HGB/Vm # GB occupancy enrichment ratio\n",
    "KGB = np.exp(0.25*kappa_GB*Vm/(N*R*T))\n",
    "print(\"KGB: \", KGB)\n",
    "\n",
    "theta_b = 3.453e-3*Vm/N\n",
    "print(theta_b)\n",
    "\n",
    "cL = theta_b*N/Vm  # Concentration  [mol/m³]\n",
    "print(\"cL\", cL)\n",
    "\n",
    "theta_gb = theta_b*KGB # Occupancy at the grain boundaries\n",
    "\n",
    "c_GB = theta_gb/Vgb\n",
    "print(\"c_GB\", c_GB)\n",
    "Z_gb = c_GB/cL # Concentration enrichment ratio\n",
    "print(\"Z_gb\", Z_gb)\n",
    "zeta_gb = 4*R*T*np.log(Z_gb)\n",
    "print(\"zeta_gb\", zeta_gb)\n",
    "\n",
    "print(\"Eq Con GB: \", np.exp(0.25*zeta_gb/(R*T)))\n",
    "print(\"Eq Con TJ: \", np.exp(0.33*zeta_gb/(R*T)))"
   ]
  },
  {
   "cell_type": "code",
   "execution_count": 18,
   "metadata": {},
   "outputs": [
    {
     "data": {
      "text/plain": [
       "{'Material_1': {'D0x1': 8.45e-08,\n",
       "  'D0y1': 8.45e-08,\n",
       "  'DQx1': 5000,\n",
       "  'DQy1': 5000,\n",
       "  'D0x2': 8.45e-08,\n",
       "  'D0y2': 8.45e-08,\n",
       "  'DQx2': 5000,\n",
       "  'DQy2': 5000,\n",
       "  'zeta_GB': np.float64(15207.20386088472)}}"
      ]
     },
     "execution_count": 18,
     "metadata": {},
     "output_type": "execute_result"
    }
   ],
   "source": [
    "# Material parameters dict\n",
    "\n",
    "Materials = {\n",
    "    \"Material_1\" : {\n",
    "\t\"D0x1\" : D01,\n",
    " \t\"D0y1\" : D01,\n",
    "\t\"DQx1\" : DQ1,\n",
    "\t\"DQy1\" : DQ1,\n",
    " \t\"D0x2\" : D02,\n",
    " \t\"D0y2\" : D02,\n",
    "\t\"DQx2\" : DQ2,\n",
    "\t\"DQy2\" : DQ2,\n",
    " \t\"zeta_GB\"  : zeta_gb,\n",
    "\t}\n",
    "}\n",
    "\n",
    "Materials"
   ]
  },
  {
   "cell_type": "markdown",
   "metadata": {},
   "source": [
    "### Apply boundary conditions"
   ]
  },
  {
   "cell_type": "code",
   "execution_count": 19,
   "metadata": {},
   "outputs": [],
   "source": [
    "lx = 100e-6    # width of the RVE\n",
    "ly = 100e-6    # height of the RVE\n",
    "\n",
    "exitNods = []\n",
    "\n",
    "# Set keyworkd argument `Charging` to true for charging simulation\n",
    "conBCs, exitNods = PermeationX(ly, cL, mesh, Charging=False)\n",
    "\n",
    "# Equilibrium boundary conditions\n",
    "for i in range(len(conBCs)):\n",
    "    conBCs[i][1] = conBCs[i][1]*np.exp(gPhi[conBCs[i][0]]*zeta_gb/(R*T))\n",
    "    \n",
    "# Write boundary conditions in a .vtu file for checking in Paraview. recommended view is `Points`. \n",
    "BCmesh = WriteConBCs(Simul, elementName, mesh, conBCs)"
   ]
  },
  {
   "cell_type": "markdown",
   "metadata": {},
   "source": [
    "### Initialize simulation object"
   ]
  },
  {
   "cell_type": "code",
   "execution_count": 20,
   "metadata": {},
   "outputs": [],
   "source": [
    "reload(PreProcessing)\n",
    "from PreProcessing import PreProcessing as PP"
   ]
  },
  {
   "cell_type": "code",
   "execution_count": 21,
   "metadata": {},
   "outputs": [
    {
     "name": "stdout",
     "output_type": "stream",
     "text": [
      "HDF5 file 'Permeation_Tri3_in.hdf5' opened successfully in write mode.\n",
      "HDF5 file closed successfully.\n"
     ]
    }
   ],
   "source": [
    "SimulationData = {\n",
    "    \"Simul\"            : Simul,\n",
    "    \"SimulType\"\t\t   : SimulType,\n",
    "    \"mesh\"             : mesh,\n",
    "    \"gPhi\"             : gPhi,\n",
    "    \"elementName\"      : elementName,\n",
    "    \"nElementSets\"     : nElementSets,\n",
    "    \"presBCs\"          : conBCs,\n",
    "    \"conB\"             : cL,\n",
    "    \"exitNods\"         : exitNods,\n",
    "    \"dt\"               : dt,\n",
    "    \"nSteps\"           : nSteps,\n",
    "    \"Materials\"        : Materials,\n",
    "    \"T\"                : T,\n",
    "}\n",
    "\n",
    "# Preprocessing object\n",
    "GB_Sim = PP(SimulationData)\n",
    "\n",
    "# Create the input file Simul+\"_in.hdf5\" file\n",
    "GB_Sim.WriteInputFile()"
   ]
  },
  {
   "cell_type": "code",
   "execution_count": 22,
   "metadata": {},
   "outputs": [],
   "source": [
    "# Create the output file Simul+\"_out.hdf5\" file\n",
    "GB_Sim.WriteOutputFile(OVERWRITE=True, FLUX=True, AVFLUX=True)"
   ]
  },
  {
   "cell_type": "markdown",
   "metadata": {},
   "source": [
    "### Generate xdmf visualization file"
   ]
  },
  {
   "cell_type": "code",
   "execution_count": 24,
   "metadata": {},
   "outputs": [
    {
     "data": {
      "text/plain": [
       "<PostProcessing.WriteXDMF at 0x7fe420aefbc0>"
      ]
     },
     "execution_count": 24,
     "metadata": {},
     "output_type": "execute_result"
    }
   ],
   "source": [
    "WriteXDMF(Simul, elementName, nSteps+1, \"Transport2D\", FLUX=True)"
   ]
  }
 ],
 "metadata": {
  "kernelspec": {
   "display_name": "phimats",
   "language": "python",
   "name": "python3"
  },
  "language_info": {
   "codemirror_mode": {
    "name": "ipython",
    "version": 3
   },
   "file_extension": ".py",
   "mimetype": "text/x-python",
   "name": "python",
   "nbconvert_exporter": "python",
   "pygments_lexer": "ipython3",
   "version": "3.12.7"
  }
 },
 "nbformat": 4,
 "nbformat_minor": 2
}
