{
 "cells": [
  {
   "cell_type": "markdown",
   "metadata": {},
   "source": [
    "**NOTE** `phimats` environment should be used as kernel"
   ]
  },
  {
   "cell_type": "code",
   "execution_count": 1,
   "metadata": {},
   "outputs": [],
   "source": [
    "import numpy as np\n",
    "import h5py\n",
    "\n",
    "import PreProcessing\n",
    "from PreProcessing import PreProcessing as PP, ReadMesh\n",
    "\n",
    "import BoundaryConditions\n",
    "from BoundaryConditions import *\n",
    "\n",
    "import PostProcessing\n",
    "from PostProcessing import WriteXDMF"
   ]
  },
  {
   "cell_type": "markdown",
   "metadata": {},
   "source": [
    "### Simulation data"
   ]
  },
  {
   "cell_type": "code",
   "execution_count": null,
   "metadata": {},
   "outputs": [],
   "source": [
    "# Simulation name\n",
    "Simul = \"ChargingHT990\"\n",
    "# Simulation type\n",
    "SimulType = \"2PhaseTrapping\" \n",
    "# Element sets\n",
    "nElementSets = 1\n",
    "# Number of steps\n",
    "nSteps = 20"
   ]
  },
  {
   "cell_type": "markdown",
   "metadata": {},
   "source": [
    "### Read mesh file"
   ]
  },
  {
   "cell_type": "code",
   "execution_count": 3,
   "metadata": {},
   "outputs": [
    {
     "name": "stdout",
     "output_type": "stream",
     "text": [
      "<meshio mesh object>\n",
      "  Number of points: 370990\n",
      "  Number of cells:\n",
      "    triangle: 740467\n",
      "  Point sets: plate\n",
      "  Cell sets: plate\n"
     ]
    }
   ],
   "source": [
    "# Path to .inp mesh file\n",
    "modelName = \"../RVE_HT990\"\n",
    "\n",
    "# Create meshio mesh object\n",
    "mesh = ReadMesh(modelName)\n",
    "print(mesh)"
   ]
  },
  {
   "cell_type": "markdown",
   "metadata": {},
   "source": [
    "### Element data"
   ]
  },
  {
   "cell_type": "code",
   "execution_count": 4,
   "metadata": {},
   "outputs": [],
   "source": [
    "elementName = \"triangle\" \t# meshio compatible element name\n",
    "nNodes = mesh.points.shape[0]            # Total number of nodes\n",
    "nodCoord = mesh.points[:,0:2]            # Node coordinates\n",
    "nElements = mesh.cells_dict[elementName].data.shape[0]  # Total number of elements\n",
    "elemNodeConn = mesh.cells_dict[elementName]        # Node connectivity for all elements"
   ]
  },
  {
   "cell_type": "markdown",
   "metadata": {},
   "source": [
    "### Read phase-field data"
   ]
  },
  {
   "cell_type": "code",
   "execution_count": null,
   "metadata": {},
   "outputs": [],
   "source": [
    "# Path to the phase-field RVE data\n",
    "fh5 = h5py.File(\"../RVE_HT990.hdf5\", \"r\")\n",
    "\n",
    "gPhi_jj = fh5[\"gPhi_jj\"][()]   \n",
    "gPhi_ij = fh5[\"gPhi_ij\"][()]   \n",
    "gPhi_ii = fh5[\"gPhi_ii\"][()]   \n",
    "phi_j   = fh5[\"phi_j\"][()]   \n",
    "\n",
    "fh5.close()"
   ]
  },
  {
   "cell_type": "markdown",
   "metadata": {},
   "source": [
    "### Diffusivity parameters"
   ]
  },
  {
   "cell_type": "code",
   "execution_count": null,
   "metadata": {},
   "outputs": [
    {
     "name": "stdout",
     "output_type": "stream",
     "text": [
      "DL:  8.298525128712058e-13\n",
      "DT:  3.4420742950361795e-16\n",
      "DL/DT:  2410.9081958746133\n"
     ]
    }
   ],
   "source": [
    "T = 281                    # Temperature [K] 8C\n",
    "\n",
    "R = 8.31446261815324       # Universal gas constant [J/mol.K]\n",
    "\n",
    "dt = 864                   # Time increment [s]\n",
    "\n",
    "# Lattice diffusivity m²/s\n",
    "D01 = 8.45e-6; DQ1 = 37700  \n",
    "DL = D01*np.exp(-DQ1/(R*T)) \n",
    "\n",
    "# High solubility phase diffusivity\n",
    "D02 = 5.76e-7; DQ2 = 49620 \n",
    "DT = D02*np.exp(-DQ2/(R*T))\n",
    "\n",
    "print(\"DL: \", DL)\n",
    "print(\"DT: \", DT)\n",
    "print(\"DL/DT: \", DL/DT)"
   ]
  },
  {
   "cell_type": "markdown",
   "metadata": {},
   "source": [
    "### Solubility parameters"
   ]
  },
  {
   "cell_type": "code",
   "execution_count": 14,
   "metadata": {},
   "outputs": [
    {
     "name": "stdout",
     "output_type": "stream",
     "text": [
      "Zii:  72.25163696760185\n",
      "Zij:  8.500096291666457\n",
      "Zjj:  2.3537998900397787\n",
      "Zj:  170.06589514953538\n"
     ]
    }
   ],
   "source": [
    "Ejj       = 2000\n",
    "Eij       = 5000\n",
    "Eii       = 10000\n",
    "\n",
    "Ej        = 12000\n",
    "\n",
    "zeta_ii = 4*Eii\n",
    "print(\"Zii: \", np.exp(zeta_ii/(4*R*T)))\n",
    "\n",
    "zeta_ij = 4*Eij  # What actually happes is 4*(Eij+Ej) due to diffuse interface\n",
    "print(\"Zij: \", np.exp(zeta_ij/(4*R*T)))\n",
    "\n",
    "zeta_jj = 4*Ejj   # What actually happes is 4*(Ejj+Ej) due to diffuse interface\n",
    "print(\"Zjj: \", np.exp(zeta_jj/(4*R*T)))\n",
    "\n",
    "zeta_j = Ej\n",
    "print(\"Zj: \", np.exp(zeta_j/(R*T)))"
   ]
  },
  {
   "cell_type": "code",
   "execution_count": null,
   "metadata": {},
   "outputs": [],
   "source": [
    "# Material `dict`\n",
    "Materials = {\n",
    "    \"Material_1\" : {\n",
    "\t\t\"D0x1\" : D01,\n",
    "\t\t\"D0y1\" : D01,\n",
    "\t\t\"DQx1\" : DQ1,\n",
    "\t\t\"DQy1\" : DQ1,\n",
    "\t\t\"D0x2\" : D02,\n",
    "\t\t\"D0y2\" : D02,\n",
    "\t\t\"DQx2\" : DQ2,\n",
    "\t\t\"DQy2\" : DQ2,\n",
    "\t\t\"zeta_j\"   : zeta_j,\n",
    "\t\t\"zeta_jj\"  : zeta_jj,\n",
    "\t\t\"zeta_ij\"  : zeta_ij,\n",
    "\t\t\"zeta_ii\"  : zeta_ii,\n",
    "    }\n",
    "}"
   ]
  },
  {
   "cell_type": "markdown",
   "metadata": {},
   "source": [
    "### Apply boundary conditions"
   ]
  },
  {
   "cell_type": "code",
   "execution_count": 16,
   "metadata": {},
   "outputs": [
    {
     "name": "stdout",
     "output_type": "stream",
     "text": [
      "39.03769841269841\n"
     ]
    }
   ],
   "source": [
    "# Concentration wppm * Fe density kg/m³\n",
    "mass_h = 5 * 7.87\n",
    "mol_h = mass_h/1.008  # this is per m³\n",
    "Con_b = mol_h\n",
    "print(Con_b)"
   ]
  },
  {
   "cell_type": "code",
   "execution_count": 18,
   "metadata": {},
   "outputs": [],
   "source": [
    "ly = 60e-6    # height of the RVE\n",
    "lx = 100e-6   # width of the RVE\n",
    "\n",
    "exitNods = []\n",
    "conBCs, exitNods = PermeationX(lx, Con_b, mesh, Charging=True)\n",
    "\n",
    "# Equilibrium values for Dirichlet boundary conditions\n",
    "for i in range(len(conBCs)):\n",
    "    conBCs[i][1] = conBCs[i][1]*np.exp((gPhi_ii[conBCs[i][0]]*zeta_ii/(4*R*T)) + \n",
    "                                   \t   (gPhi_ij[conBCs[i][0]]*zeta_ij/(4*R*T)) +\n",
    "                                 \t   (gPhi_jj[conBCs[i][0]]*zeta_jj/(4*R*T)) +\n",
    "                                 \t   (phi_j[conBCs[i][0]]*zeta_j/(R*T)))\n",
    "\n",
    "# Write boundary conditions in a .vtu file for checking in Paraview. recommended view is `Points`. \n",
    "BCmesh = WriteConBCs(Simul, elementName, mesh, conBCs)"
   ]
  },
  {
   "cell_type": "markdown",
   "metadata": {},
   "source": [
    "### Initialize simulation object"
   ]
  },
  {
   "cell_type": "code",
   "execution_count": null,
   "metadata": {},
   "outputs": [
    {
     "name": "stdout",
     "output_type": "stream",
     "text": [
      "HDF5 file 'ChargingHT990_in.hdf5' opened successfully in write mode.\n",
      "HDF5 file closed successfully.\n"
     ]
    }
   ],
   "source": [
    "# All input data `dict``\n",
    "SimulationData = {\n",
    "    \"Simul\"         : Simul,\n",
    "    \"SimulType\"\t\t: SimulType,\n",
    "    \"mesh\"          : mesh,\n",
    "    \"gPhi_ii\"       : gPhi_ii,\n",
    "    \"gPhi_ij\"       : gPhi_ij,\n",
    "    \"gPhi_jj\"       : gPhi_jj,\n",
    "    \"phi_j\"    \t\t: phi_j,\n",
    "    \"elementName\"   : elementName,\n",
    "    \"nElementSets\"  : nElementSets,\n",
    "    \"presBCs\"       : conBCs,\n",
    "    \"exitNods\"      : exitNods,\n",
    "    \"dt\"            : dt,\n",
    "    \"nSteps\"        : nSteps,\n",
    "    \"Materials\"     : Materials,\n",
    "    \"T\"             : T,\n",
    "}\n",
    "\n",
    "# Preprocessing object\n",
    "Duplex_Ch = PP(SimulationData)\n",
    "\n",
    "# Create the input file Simul+\"_in.hdf5\" file\n",
    "Duplex_Ch.WriteInputFile()"
   ]
  },
  {
   "cell_type": "code",
   "execution_count": null,
   "metadata": {},
   "outputs": [],
   "source": [
    "# Create the output file Simul+\"_out.hdf5\" file\n",
    "Duplex_Ch.WriteOutputFile()"
   ]
  },
  {
   "cell_type": "markdown",
   "metadata": {},
   "source": [
    "### Generate visualization xdmf file"
   ]
  },
  {
   "cell_type": "code",
   "execution_count": 23,
   "metadata": {},
   "outputs": [
    {
     "data": {
      "text/plain": [
       "<PostProcessing.WriteXDMF at 0x7f9535b76300>"
      ]
     },
     "execution_count": 23,
     "metadata": {},
     "output_type": "execute_result"
    }
   ],
   "source": [
    "WriteXDMF(Simul, elementName, nSteps, \"Transport2D\", tOut=1)\n",
    "# Note that `tOut` should be same as that in the .cxx driver file "
   ]
  }
 ],
 "metadata": {
  "kernelspec": {
   "display_name": "phimats2",
   "language": "python",
   "name": "python3"
  },
  "language_info": {
   "codemirror_mode": {
    "name": "ipython",
    "version": 3
   },
   "file_extension": ".py",
   "mimetype": "text/x-python",
   "name": "python",
   "nbconvert_exporter": "python",
   "pygments_lexer": "ipython3",
   "version": "3.13.1"
  }
 },
 "nbformat": 4,
 "nbformat_minor": 2
}
