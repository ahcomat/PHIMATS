{
 "cells": [
  {
   "cell_type": "markdown",
   "metadata": {},
   "source": [
    "**NOTE** `phimats` environment should be used as kernel"
   ]
  },
  {
   "cell_type": "code",
   "execution_count": 1,
   "metadata": {},
   "outputs": [],
   "source": [
    "from importlib import reload\n",
    "\n",
    "import numpy as np\n",
    "\n",
    "import PreProcessing\n",
    "from PreProcessing import PreProcessing as PP, ReadMesh\n",
    "\n",
    "import BoundaryConditions\n",
    "from BoundaryConditions import *\n",
    "\n",
    "import PostProcessing\n",
    "from PostProcessing import WriteXDMF"
   ]
  },
  {
   "cell_type": "markdown",
   "metadata": {},
   "source": [
    "### Simulation data"
   ]
  },
  {
   "cell_type": "code",
   "execution_count": 2,
   "metadata": {},
   "outputs": [],
   "source": [
    "# Simulation name\n",
    "Simul = \"CrackTip\"\n",
    "# Simulation type\n",
    "SimulType = \"Mechanical\"\n",
    "# Element sets\n",
    "nElementSets = 1\n",
    "# Number of steps to achieve the load\n",
    "nSteps = 500"
   ]
  },
  {
   "cell_type": "markdown",
   "metadata": {},
   "source": [
    "### Read mesh file"
   ]
  },
  {
   "cell_type": "code",
   "execution_count": 3,
   "metadata": {},
   "outputs": [
    {
     "name": "stdout",
     "output_type": "stream",
     "text": [
      "<meshio mesh object>\n",
      "  Number of points: 31977\n",
      "  Number of cells:\n",
      "    quad: 9872\n",
      "    quad: 5856\n",
      "    quad: 7920\n",
      "    quad: 7920\n",
      "  Point sets: Crack\n",
      "  Cell sets: Crack\n"
     ]
    }
   ],
   "source": [
    "# Path to .inp mesh file\n",
    "modelName = \"../cracktip\"\n",
    "\n",
    "mesh = ReadMesh(modelName)\n",
    "print(mesh)"
   ]
  },
  {
   "cell_type": "markdown",
   "metadata": {},
   "source": [
    "### Element data"
   ]
  },
  {
   "cell_type": "code",
   "execution_count": 4,
   "metadata": {},
   "outputs": [],
   "source": [
    "# Element name\n",
    "elementName = \"quad\"  \t\t# meshio compatible element name\n",
    "nNodes = mesh.points.shape[0]            # Total number of nodes\n",
    "nodCoord = mesh.points[:,0:2]            # Node coordinates\n",
    "nElements = mesh.cells_dict[elementName].data.shape[0]  # Total number of elements\n",
    "elemNodeConn = mesh.cells_dict[elementName]        # Node connectivity for all elements"
   ]
  },
  {
   "cell_type": "markdown",
   "metadata": {},
   "source": [
    "### Material data"
   ]
  },
  {
   "cell_type": "code",
   "execution_count": 5,
   "metadata": {},
   "outputs": [
    {
     "data": {
      "text/plain": [
       "{'Plasticity': 'IsoHard',\n",
       " 'HardeningLaw': 'KME',\n",
       " 'sig_y0': 250000000.0,\n",
       " 'rho_0': 10000000000.0,\n",
       " 'M': 3,\n",
       " 'b': 2.5e-10,\n",
       " 'alpha': 0.3,\n",
       " 'k1': 133333333.33333333,\n",
       " 'k2': 10}"
      ]
     },
     "execution_count": 5,
     "metadata": {},
     "output_type": "execute_result"
    }
   ],
   "source": [
    "# Analysis type\n",
    "AnalysisType = \"PlaneStrain\"\n",
    "# Isotropy\n",
    "Isotropy = \"Isotropic\"\n",
    "# Young's modulus\n",
    "Emod = 200e9\n",
    "# Poisson's ratio\n",
    "nu = 0.3\n",
    "\n",
    "# Plasticity type\n",
    "Plasticity = \"IsoHard\"\n",
    "HardeningLaw = \"KME\"\n",
    "sig_y0 = 250e6    # Pa\n",
    "rho_0 = 1e10  # Initial dislocation density (m⁻²)\n",
    "M = 3 \t\t  # Taylor factor\n",
    "alpha = 0.3   # Dislocation interaction constant\n",
    "b = 2.5e-10   # Burgers vector (m)\n",
    "G = Emod/(2*(1+nu)) # Shear modulus\n",
    "k1 = 2*(G/(200*G*alpha*b))  # Multiplication coefficient\n",
    "k2 = 10  # Recovery coefficient\n",
    "\n",
    "Materials = {\n",
    "\t\"Material_1\" : {\n",
    "\t\t\"Elastic\" : {\n",
    "\t\t\t\"AnalysisType\" : AnalysisType,\n",
    "\t\t\t\"Isotropy\" \t : Isotropy,\n",
    "\t\t\t\"Emod\" \t\t : Emod,\n",
    "\t\t\t\"nu\"   \t\t : nu,\n",
    "\t\t},\n",
    "\t\t\"Plastic\" : {\n",
    "\t\t\t\"Plasticity\"   : Plasticity,\n",
    "\t\t\t\"HardeningLaw\" : HardeningLaw,\n",
    "\t\t\t\"sig_y0\"       : sig_y0,\n",
    "\t\t\t\"rho_0\"        : rho_0,\n",
    "\t\t\t\"M\"            : M,\n",
    "\t\t\t\"b\"            : b,\n",
    "\t\t\t\"alpha\"        : alpha,\n",
    "\t\t\t\"k1\"           : k1,\n",
    "   \t\t\t\"k2\"           : k2,\n",
    "\t\t},\n",
    "\t},\n",
    "}\n",
    "\n",
    "Materials[\"Material_1\"][\"Plastic\"]"
   ]
  },
  {
   "cell_type": "markdown",
   "metadata": {},
   "source": [
    "### Boundary layer load"
   ]
  },
  {
   "cell_type": "markdown",
   "metadata": {},
   "source": [
    "The boundary layer method is used to apply the load, with the crack-tip displacement fields [Anderson, T. Fracture Mechanics: Fundamentals and Applications. CRC Press (2017)]\n",
    "\n",
    "$$u_x = \\frac{K_I}{2\\mu} \\sqrt{\\frac{r}{2\\pi}} \\cos\\left(\\frac{\\theta}{2}\\right) \\left[ \\alpha - 1 + 2\\sin^2\\left(\\frac{\\theta}{2}\\right) \\right]$$\n",
    "\n",
    "$$u_y = \\frac{K_I}{2\\mu} \\sqrt{\\frac{r}{2\\pi}} \\sin\\left(\\frac{\\theta}{2}\\right) \\left[ \\alpha + 1 - 2\\cos^2\\left(\\frac{\\theta}{2}\\right) \\right]$$\n",
    "\n",
    "Where:\n",
    "- $K_I$: Mode I Stress intensity factor\n",
    "- $\\mu$: Shear modulus\n",
    "  - $\\mu = \\frac{E}{2(1+\\nu)}$, where $E$ is Young's modulus and $\\nu$ is Poisson's ratio.\n",
    "- $\\alpha$: Constant depending on plane strain or plane stress:\n",
    "  - **Plane strain:** $\\alpha = 3 - 4\\nu$"
   ]
  },
  {
   "cell_type": "code",
   "execution_count": 6,
   "metadata": {},
   "outputs": [],
   "source": [
    "# Parameters for boundary layer model\n",
    "K_I = 89.2*1e6     # Stress intensity factor (e.g., MPa*sqrt(m))\n",
    "mu = Emod / (2 * (1 + nu))\t# Shear modulus\n",
    "kappa = 3 - 4 * nu  \t# For plane strain"
   ]
  },
  {
   "cell_type": "markdown",
   "metadata": {},
   "source": [
    "### Apply boundary conditions\n",
    "**NOTE** This is the total load to be achieved in number of steps `nSteps`."
   ]
  },
  {
   "cell_type": "code",
   "execution_count": 7,
   "metadata": {},
   "outputs": [],
   "source": [
    "meshBC = meshio.read(\"../cracktip_BC.inp\")\n",
    "# print(meshBC)\n",
    "\n",
    "# Compute displacements\n",
    "displacements = []\n",
    "\n",
    "for iNod in range(len(meshBC.points[meshBC.point_sets[\"Load\"]])):\n",
    "    \n",
    "\tx = meshBC.points[meshBC.point_sets[\"Load\"]][iNod,0]\n",
    "\ty = meshBC.points[meshBC.point_sets[\"Load\"]][iNod,1]\n",
    "\t\n",
    "\t# Convert to polar coordinates\n",
    "\tr = np.sqrt(x**2 + y**2)\n",
    "\ttheta = np.arctan2(y, x)  \n",
    " \n",
    "\t# Avoid division by zero at the crack tip\n",
    "\tif r == 0:\n",
    "\t\tdisplacements.append((x, y, 0.0, 0.0))\n",
    "\t\tcontinue\n",
    "\n",
    "\t# Mode I displacement fields\n",
    "\tu_x = (K_I/(2*mu))*np.sqrt(r/(2*np.pi))*np.cos(theta/2)*(kappa - 1 + 2*np.sin(theta/2)**2)\n",
    "\tu_y = (K_I/(2*mu))*np.sqrt(r/(2*np.pi))*np.sin(theta/2)*(kappa + 1 - 2*np.cos(theta/2)**2)\n",
    "\t\n",
    "\tdisplacements.append((meshBC.point_sets[\"Load\"][iNod], u_x, u_y))\n",
    "\n",
    "# Fixed\n",
    "fixed = []   \n",
    "for iNod in range(len(meshBC.points[meshBC.point_sets[\"Fix\"]])):\n",
    "\tif (meshBC.point_sets[\"Fix\"][iNod]!=6):\n",
    "\t\tfixed.append((meshBC.point_sets[\"Fix\"][iNod], 0, 0))"
   ]
  },
  {
   "cell_type": "code",
   "execution_count": 8,
   "metadata": {},
   "outputs": [],
   "source": [
    "presBCs = [] \n",
    "\n",
    "for iNod in range(len(displacements)):\n",
    "\tpresBCs.append([displacements[iNod][0], 0, displacements[iNod][1]])\n",
    "\tpresBCs.append([displacements[iNod][0], 1, displacements[iNod][2]])\n",
    "\n",
    "# y-fixed\n",
    "for iNod in range(len(fixed)):\n",
    "\t# presBCs.append([fixed[iNod][0], 0, fixed[iNod][1]])\n",
    "\tpresBCs.append([fixed[iNod][0], 1, fixed[iNod][2]])\n"
   ]
  },
  {
   "cell_type": "code",
   "execution_count": 9,
   "metadata": {},
   "outputs": [],
   "source": [
    "# Write mesh into for inspection \n",
    "BCmesh = WriteDispBCs(\"CrackTip\", \"quad\", mesh, presBCs)"
   ]
  },
  {
   "cell_type": "markdown",
   "metadata": {},
   "source": [
    "### Initialize simulation object"
   ]
  },
  {
   "cell_type": "code",
   "execution_count": 11,
   "metadata": {},
   "outputs": [
    {
     "name": "stdout",
     "output_type": "stream",
     "text": [
      "HDF5 file 'CrackTip_in.hdf5' opened successfully in write mode.\n",
      "HDF5 file closed successfully.\n"
     ]
    }
   ],
   "source": [
    "SimulationData = {\n",
    "    \"Simul\"            : Simul,\n",
    "\t\"SimulType\"\t\t   : SimulType,\n",
    "    \"mesh\"             : mesh,\n",
    "    \"elementName\"      : elementName,\n",
    "    \"nElementSets\"     : nElementSets,\n",
    "    \"presBCs\"          : presBCs,\n",
    "    \"nSteps\"           : nSteps,\n",
    "    \"Materials\"        : Materials,\n",
    "}\n",
    "\n",
    "CracKTip = PP(SimulationData)\n",
    "CracKTip.WriteInputFile()"
   ]
  },
  {
   "cell_type": "code",
   "execution_count": 12,
   "metadata": {},
   "outputs": [],
   "source": [
    "# Create the output file Simul+\"_out.hdf5\" file\n",
    "CracKTip.WriteOutputFile(OVERWRITE=True)"
   ]
  },
  {
   "cell_type": "code",
   "execution_count": 14,
   "metadata": {},
   "outputs": [
    {
     "data": {
      "text/plain": [
       "<PostProcessing.WriteXDMF at 0x7f016a78cb60>"
      ]
     },
     "execution_count": 14,
     "metadata": {},
     "output_type": "execute_result"
    }
   ],
   "source": [
    "WriteXDMF(Simul, elementName, nSteps+1, \"Plastic2D\")"
   ]
  }
 ],
 "metadata": {
  "kernelspec": {
   "display_name": "phimats",
   "language": "python",
   "name": "python3"
  },
  "language_info": {
   "codemirror_mode": {
    "name": "ipython",
    "version": 3
   },
   "file_extension": ".py",
   "mimetype": "text/x-python",
   "name": "python",
   "nbconvert_exporter": "python",
   "pygments_lexer": "ipython3",
   "version": "3.12.7"
  }
 },
 "nbformat": 4,
 "nbformat_minor": 2
}
