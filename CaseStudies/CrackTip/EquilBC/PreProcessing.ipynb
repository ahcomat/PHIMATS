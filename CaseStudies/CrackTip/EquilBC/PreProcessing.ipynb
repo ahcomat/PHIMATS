{
 "cells": [
  {
   "cell_type": "markdown",
   "metadata": {},
   "source": [
    "**NOTE** `phimats` environment should be used as kernel"
   ]
  },
  {
   "cell_type": "code",
   "execution_count": 1,
   "metadata": {},
   "outputs": [],
   "source": [
    "import numpy as np\n",
    "from importlib import reload\n",
    "\n",
    "import PreProcessing\n",
    "from PreProcessing import PreProcessing as PP, ReadMesh\n",
    "\n",
    "from BoundaryConditions import *\n",
    "\n",
    "import PostProcessing\n",
    "from PostProcessing import WriteXDMF"
   ]
  },
  {
   "cell_type": "markdown",
   "metadata": {},
   "source": [
    "## Read mesh"
   ]
  },
  {
   "cell_type": "code",
   "execution_count": 2,
   "metadata": {},
   "outputs": [
    {
     "name": "stdout",
     "output_type": "stream",
     "text": [
      "<meshio mesh object>\n",
      "  Number of points: 31977\n",
      "  Number of cells:\n",
      "    quad: 9872\n",
      "    quad: 5856\n",
      "    quad: 7920\n",
      "    quad: 7920\n",
      "  Point sets: Crack\n",
      "  Cell sets: Crack\n"
     ]
    }
   ],
   "source": [
    "# Path to .inp mesh file\n",
    "modelName = \"../cracktip\"\n",
    "\n",
    "mesh = ReadMesh(modelName)\n",
    "print(mesh)"
   ]
  },
  {
   "cell_type": "markdown",
   "metadata": {},
   "source": [
    "### Simulation data"
   ]
  },
  {
   "cell_type": "code",
   "execution_count": 3,
   "metadata": {},
   "outputs": [],
   "source": [
    "# Simulation name\n",
    "Simul = \"CrackTip_EquilBC\"\n",
    "# Simulation type\n",
    "SimulType = \"MechTrapping\"\n",
    "# Element name\n",
    "elementName = \"quad\"  \n",
    "# Element sets\n",
    "nElementSets = len(mesh.cell_sets_dict.keys())\n",
    "# Number of steps\n",
    "nSteps = 500"
   ]
  },
  {
   "cell_type": "markdown",
   "metadata": {},
   "source": [
    "### Material data"
   ]
  },
  {
   "cell_type": "code",
   "execution_count": 14,
   "metadata": {},
   "outputs": [
    {
     "name": "stdout",
     "output_type": "stream",
     "text": [
      "4.080295e-09\n",
      "cL 0.003453\n",
      "c_rho 0.8772567112212009\n",
      "Z_rho 254.0563890012166\n",
      "zeta_rho 13805.127722078518\n"
     ]
    }
   ],
   "source": [
    "# Trapping --------------\n",
    "\n",
    "Erho = 20000  # Hydroge dislocation enthalpy (positive) [J/mol]\n",
    "\n",
    "Vm = 7.09e-6  # Molar volume of Fe [m³/mol]\n",
    "Vrho = 2*Vm   # Molar volume around dislocation  [m³/mol]\n",
    "Vh = 2e-6     # Partial molar volume of hydrogen in Fe [m³]\n",
    "N = 6          \n",
    "R = 8.31      # Universal gas constant [J/(molK)]\n",
    "T = 300       # Temperature [K]\n",
    "\n",
    "theta_b = 3.453e-3*Vm/N\n",
    "print(theta_b)\n",
    "\n",
    "cL = theta_b*N/Vm  # Concentration  [mol/m³]\n",
    "print(\"cL\", cL)\n",
    "\n",
    "Krho   = np.exp(Erho/(R*T))\n",
    "theta_rho = theta_b*Krho #/(1+theta_b*Krho)\n",
    "\n",
    "Vrho = 2*Vm\n",
    "c_rho = theta_rho/Vrho\n",
    "print(\"c_rho\", c_rho)\n",
    "Z_rho = c_rho/cL\n",
    "print(\"Z_rho\", Z_rho)\n",
    "zeta_rho = R*T*np.log(Z_rho)\n",
    "# zeta_rho = 0\n",
    "print(\"zeta_rho\", zeta_rho)"
   ]
  },
  {
   "cell_type": "code",
   "execution_count": 15,
   "metadata": {},
   "outputs": [
    {
     "name": "stdout",
     "output_type": "stream",
     "text": [
      "1.1371790945295182e-08\n"
     ]
    }
   ],
   "source": [
    "# Diffusivity --------------\n",
    "\n",
    "dt = 1/500   # Time increment [s]\n",
    "s = 1      # Trapping capacity \n",
    "m = 0      # Dislocation diffusivity ratio\n",
    "\n",
    "D0x = 1e-6; DQx = 10000  # Diffusivity m^2/s\n",
    "\n",
    "D0x = 8.45e-8; DQx = 5000  # Diffusivity m^2/s\n",
    "DL = D0x*np.exp(-DQx/(R*T))\n",
    "\n",
    "print(DL)"
   ]
  },
  {
   "cell_type": "code",
   "execution_count": 16,
   "metadata": {},
   "outputs": [
    {
     "data": {
      "text/plain": [
       "{'Material_1': {'D0x': 8.45e-08,\n",
       "  'D0y': 8.45e-08,\n",
       "  'DQx': 5000,\n",
       "  'DQy': 5000,\n",
       "  'm': 0,\n",
       "  's': 1,\n",
       "  'Vh': 2e-06,\n",
       "  'zeta_rho': np.float64(13805.127722078518)}}"
      ]
     },
     "execution_count": 16,
     "metadata": {},
     "output_type": "execute_result"
    }
   ],
   "source": [
    "Materials = {\n",
    "    \"Material_1\" : {\n",
    "\t\"D0x\" \t: D0x,\n",
    " \t\"D0y\" \t: D0x,\n",
    "\t\"DQx\" \t: DQx,\n",
    "\t\"DQy\" \t: DQx,\n",
    "\t\"m\"   \t: m,\n",
    "\t\"s\"   \t: s,\n",
    "\t\"Vh\"  \t: Vh,\n",
    " \t\"zeta_rho\"   : zeta_rho,\n",
    "    }\n",
    "}\n",
    "\n",
    "Materials"
   ]
  },
  {
   "cell_type": "markdown",
   "metadata": {},
   "source": [
    "### Apply boundary conditions"
   ]
  },
  {
   "cell_type": "code",
   "execution_count": 17,
   "metadata": {},
   "outputs": [],
   "source": [
    "conBCs = []\n",
    "exitNods = []\n",
    "\n",
    "meshBC = meshio.read(\"../cracktip_BC.inp\")\n",
    "\n",
    "for iNod in meshBC.point_sets[\"ConBC\"]:\n",
    "    \n",
    "    conBCs.append([iNod, cL])\n",
    "    \n",
    "BCmesh = WriteConBCs(Simul, elementName, mesh, conBCs)"
   ]
  },
  {
   "cell_type": "markdown",
   "metadata": {},
   "source": [
    "### Initialize simulation object"
   ]
  },
  {
   "cell_type": "code",
   "execution_count": 18,
   "metadata": {},
   "outputs": [],
   "source": [
    "reload(PreProcessing)\n",
    "from PreProcessing import PreProcessing as PP"
   ]
  },
  {
   "cell_type": "code",
   "execution_count": null,
   "metadata": {},
   "outputs": [
    {
     "name": "stdout",
     "output_type": "stream",
     "text": [
      "HDF5 file 'CrackTip_EquilBC_in.hdf5' opened successfully in write mode.\n",
      "HDF5 file closed successfully.\n"
     ]
    }
   ],
   "source": [
    "SimulationData = {\n",
    "    \n",
    "    \"Simul\"            : Simul,\n",
    "\t\"SimulType\"\t\t   : SimulType,\n",
    "    \"mesh\"             : mesh,\n",
    "    \"elementName\"      : elementName,\n",
    "    \"nElementSets\"     : nElementSets,\n",
    "    \"presBCs\"          : conBCs,\n",
    "    \"conB\"             : cL,\n",
    "\t\"exitNods\"         : exitNods,\n",
    "    \"nSteps\"           : nSteps,\n",
    "    \"Materials\"        : Materials,\n",
    "\t\"T\"                : T,\n",
    "\t\"dt\"               : dt,\n",
    "}\n",
    "\n",
    "CrackTip_DiffBC = PP(SimulationData)\n",
    "CrackTip_DiffBC.WriteInputFile()"
   ]
  },
  {
   "cell_type": "code",
   "execution_count": null,
   "metadata": {},
   "outputs": [],
   "source": [
    "CrackTip_DiffBC.WriteOutputFile(OVERWRITE=True)"
   ]
  },
  {
   "cell_type": "code",
   "execution_count": 21,
   "metadata": {},
   "outputs": [
    {
     "data": {
      "text/plain": [
       "<PostProcessing.WriteXDMF at 0x7f1647701e80>"
      ]
     },
     "execution_count": 21,
     "metadata": {},
     "output_type": "execute_result"
    }
   ],
   "source": [
    "WriteXDMF(Simul, elementName, nSteps+501, \"Transport2D\")"
   ]
  }
 ],
 "metadata": {
  "kernelspec": {
   "display_name": "phimats",
   "language": "python",
   "name": "python3"
  },
  "language_info": {
   "codemirror_mode": {
    "name": "ipython",
    "version": 3
   },
   "file_extension": ".py",
   "mimetype": "text/x-python",
   "name": "python",
   "nbconvert_exporter": "python",
   "pygments_lexer": "ipython3",
   "version": "3.12.7"
  }
 },
 "nbformat": 4,
 "nbformat_minor": 2
}
