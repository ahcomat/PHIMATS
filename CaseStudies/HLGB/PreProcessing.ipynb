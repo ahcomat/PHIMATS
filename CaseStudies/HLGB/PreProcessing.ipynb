{
 "cells": [
  {
   "cell_type": "markdown",
   "metadata": {},
   "source": [
    "**NOTE** `phimats` environment should be used as kernel"
   ]
  },
  {
   "cell_type": "code",
   "execution_count": 1,
   "metadata": {},
   "outputs": [],
   "source": [
    "import h5py\n",
    "\n",
    "import PreProcessing\n",
    "from PreProcessing import PreProcessing as PP, ReadMesh\n",
    "\n",
    "import BoundaryConditions\n",
    "from BoundaryConditions import *\n",
    "\n",
    "import PostProcessing\n",
    "from PostProcessing import WriteXDMF"
   ]
  },
  {
   "cell_type": "markdown",
   "metadata": {},
   "source": [
    "### Simulation data"
   ]
  },
  {
   "cell_type": "code",
   "execution_count": 2,
   "metadata": {},
   "outputs": [],
   "source": [
    "# Simulation name\n",
    "Simul = \"HLGB\"\n",
    "# Simulation type\n",
    "SimulType = \"HLGBTrapping\"\n",
    "# Element name\n",
    "elementName = \"triangle\"  \n",
    "# Element sets\n",
    "nElementSets = 1\n",
    "# Number of steps to apply the load\n",
    "nSteps = 100"
   ]
  },
  {
   "cell_type": "markdown",
   "metadata": {},
   "source": [
    "### Read mesh file \n",
    "\n",
    "The mesh file is hosted on Zenodo due to its large size.  \n",
    "To download it, paste the command below into your terminal.  \n",
    "**Note:** Make sure you're in the desired working directory.\n",
    "\n",
    "```bash\n",
    "wget https://zenodo.org/records/15380594/files/RVE_mesh.inp\n",
    "```"
   ]
  },
  {
   "cell_type": "code",
   "execution_count": 3,
   "metadata": {},
   "outputs": [
    {
     "name": "stdout",
     "output_type": "stream",
     "text": [
      "<meshio mesh object>\n",
      "  Number of points: 1000000\n",
      "  Number of cells:\n",
      "    triangle: 1996002\n",
      "  Point sets: plate\n",
      "  Cell sets: plate\n"
     ]
    }
   ],
   "source": [
    "modelName = \"RVE_mesh\"\n",
    "\n",
    "mesh = ReadMesh(modelName)\n",
    "print(mesh)"
   ]
  },
  {
   "cell_type": "markdown",
   "metadata": {},
   "source": [
    "### Element data"
   ]
  },
  {
   "cell_type": "code",
   "execution_count": 4,
   "metadata": {},
   "outputs": [],
   "source": [
    "elementName = \"triangle\" \t# meshio compatible element name\n",
    "nNodes = mesh.points.shape[0]            # Total number of nodes\n",
    "nodCoord = mesh.points[:,0:2]            # Node coordinates\n",
    "nElements = mesh.cells_dict[elementName].data.shape[0]  # Total number of elements\n",
    "elemNodeConn = mesh.cells_dict[elementName]        # Node connectivity for all elements"
   ]
  },
  {
   "cell_type": "markdown",
   "metadata": {},
   "source": [
    "### Read phase-field data $g(\\phi)$"
   ]
  },
  {
   "cell_type": "code",
   "execution_count": 5,
   "metadata": {},
   "outputs": [],
   "source": [
    "# gPhi mapped to finite element mesh\n",
    "\n",
    "fh5 = h5py.File(\"RVEMori.hdf5\", \"r\")\n",
    "\n",
    "try:\n",
    "\tgPhi_HAGB = fh5[\"gPhi_HAGB\"][()]    \n",
    "\tgPhi_LAGB = fh5[\"gPhi_LAGB\"][()]    \n",
    "\tfh5.close()\n",
    "except:\n",
    "    fh5.close()\n"
   ]
  },
  {
   "cell_type": "markdown",
   "metadata": {},
   "source": [
    "## Diffusion and trapping data"
   ]
  },
  {
   "cell_type": "code",
   "execution_count": 6,
   "metadata": {},
   "outputs": [
    {
     "name": "stdout",
     "output_type": "stream",
     "text": [
      "KHAGB:  408.9601637423769\n",
      "KLAGB:  55.09607620783739\n",
      "4.080295e-09\n",
      "cL 0.003453\n",
      "c_HAGB 0.11767828711686895\n",
      "Z_HAGB 34.08001364519807\n",
      "zeta_HAGB 35207.20386088472\n",
      "c_LAGB 0.01585389592880521\n",
      "Z_LAGB 4.591339683986449\n",
      "zeta_LAGB 15207.20386088472\n",
      "Eq Con HAGB:  34.08001364519806\n",
      "Eq Con LAGB:  7.477562307558887\n"
     ]
    }
   ],
   "source": [
    "# Diffusivity data\n",
    "T = 300                    # Temperature [K]\n",
    "R = 8.31446261815324       # Universal gas constant [J/mol.K]\n",
    "dt = 10e-3  \t\t\t   # Time increment [s]\n",
    "N = 6          \t# Number of interstitial sites per reference lattice atom [tetrahedral sites in BCC]\n",
    "\n",
    "D01 = 8.45e-8; DQ1 = 5000  # Diffusivity m²/s\n",
    "DL = D01*np.exp(-DQ1/(R*T))\n",
    "\n",
    "H_HAGB = 15000 # HAGB enrichment enthalpy[J/mol]\n",
    "H_LAGB = 10000 # LAGB enrichment enthalpy[J/mol]\n",
    "\n",
    "Vm = 7.09e-6  # Molar volume of Fe [m³/mol]\n",
    "Vgb = 2*Vm    # Molar volume around GBs  [m³/mol]\n",
    "\n",
    "kappa_HAGB = 4*N*H_HAGB/Vm # HAGBGB occupancy enrichment ratio\n",
    "KHAGB = np.exp(0.25*kappa_HAGB*Vm/(N*R*T))\n",
    "print(\"KHAGB: \", KHAGB)\n",
    "\n",
    "kappa_LAGB = 4*N*H_LAGB/Vm # LAGB occupancy enrichment ratio\n",
    "KLAGB = np.exp(0.25*kappa_LAGB*Vm/(N*R*T))\n",
    "print(\"KLAGB: \", KLAGB)\n",
    "\n",
    "theta_b = 3.453e-3*Vm/N\n",
    "print(theta_b)\n",
    "\n",
    "cL = theta_b*N/Vm  # Concentration  [mol/m³]\n",
    "print(\"cL\", cL)\n",
    "\n",
    "theta_HAGB = theta_b*KHAGB # Occupancy at the HAGB\n",
    "theta_LAGB = theta_b*KLAGB # Occupancy at the LAGB\n",
    "\n",
    "c_HAGB = theta_HAGB/Vgb\n",
    "print(\"c_HAGB\", c_HAGB)\n",
    "Z_HAGB = c_HAGB/cL # Concentration enrichment ratio\n",
    "print(\"Z_HAGB\", Z_HAGB)\n",
    "zeta_HAGB = 4*R*T*np.log(Z_HAGB)\n",
    "print(\"zeta_HAGB\", zeta_HAGB)\n",
    "\n",
    "c_LAGB = theta_LAGB/Vgb\n",
    "print(\"c_LAGB\", c_LAGB)\n",
    "Z_LAGB = c_LAGB/cL # Concentration enrichment ratio\n",
    "print(\"Z_LAGB\", Z_LAGB)\n",
    "zeta_LAGB = 4*R*T*np.log(Z_LAGB)\n",
    "print(\"zeta_LAGB\", zeta_LAGB)\n",
    "\n",
    "print(\"Eq Con HAGB: \", np.exp(0.25*zeta_HAGB/(R*T)))\n",
    "print(\"Eq Con LAGB: \", np.exp(0.33*zeta_LAGB/(R*T)))"
   ]
  },
  {
   "cell_type": "code",
   "execution_count": 7,
   "metadata": {},
   "outputs": [
    {
     "data": {
      "text/plain": [
       "{'Material_1': {'D0x1': 8.45e-08,\n",
       "  'D0y1': 8.45e-08,\n",
       "  'DQx1': 5000,\n",
       "  'DQy1': 5000,\n",
       "  'zeta_HAGB': np.float64(35207.20386088472),\n",
       "  'zeta_LAGB': np.float64(15207.20386088472)}}"
      ]
     },
     "execution_count": 7,
     "metadata": {},
     "output_type": "execute_result"
    }
   ],
   "source": [
    "# Material parameters dict\n",
    "\n",
    "Materials = {\n",
    "    \"Material_1\" : {\n",
    "\t\"D0x1\" : D01,\n",
    " \t\"D0y1\" : D01,\n",
    "\t\"DQx1\" : DQ1,\n",
    "\t\"DQy1\" : DQ1,\n",
    " \t\"zeta_HAGB\"  : zeta_HAGB,\n",
    "  \t\"zeta_LAGB\"  : zeta_LAGB,\n",
    "\t}\n",
    "}\n",
    "\n",
    "Materials"
   ]
  },
  {
   "cell_type": "markdown",
   "metadata": {},
   "source": [
    "### Apply boundary conditions"
   ]
  },
  {
   "cell_type": "code",
   "execution_count": 8,
   "metadata": {},
   "outputs": [],
   "source": [
    "lx = 100e-6    # width of the RVE\n",
    "ly = 100e-6    # height of the RVE\n",
    "\n",
    "exitNods = []\n",
    "\n",
    "# Set keyworkd argument `Charging` to true for charging simulation\n",
    "conBCs, exitNods = PermeationX(ly, cL, mesh, Charging=False)\n",
    "\n",
    "# Equilibrium boundary conditions\n",
    "for i in range(len(conBCs)):\n",
    "    conBCs[i][1] = conBCs[i][1]*np.exp((gPhi_HAGB[conBCs[i][0]]*zeta_HAGB+gPhi_LAGB[conBCs[i][0]]*zeta_LAGB)/(R*T))\n",
    "    \n",
    "# Write boundary conditions in a .vtu file for checking in Paraview. recommended view is `Points`. \n",
    "BCmesh = WriteConBCs(Simul, elementName, mesh, conBCs)"
   ]
  },
  {
   "cell_type": "markdown",
   "metadata": {},
   "source": [
    "### Initialize simulation object"
   ]
  },
  {
   "cell_type": "code",
   "execution_count": 10,
   "metadata": {},
   "outputs": [
    {
     "name": "stdout",
     "output_type": "stream",
     "text": [
      "HDF5 file 'HLGB_in.hdf5' opened successfully in write mode.\n",
      "HDF5 file closed successfully.\n"
     ]
    }
   ],
   "source": [
    "SimulationData = {\n",
    "    \"Simul\"            : Simul,\n",
    "    \"SimulType\"\t\t   : SimulType,\n",
    "    \"mesh\"             : mesh,\n",
    "    \"gPhi_HAGB\"        : gPhi_HAGB,\n",
    "    \"gPhi_LAGB\"        : gPhi_LAGB,\n",
    "    \"elementName\"      : elementName,\n",
    "    \"nElementSets\"     : nElementSets,\n",
    "    \"presBCs\"          : conBCs,\n",
    "    \"conB\"             : cL,\n",
    "    \"exitNods\"         : exitNods,\n",
    "    \"dt\"               : dt,\n",
    "    \"nSteps\"           : nSteps,\n",
    "    \"Materials\"        : Materials,\n",
    "    \"T\"                : T,\n",
    "}\n",
    "\n",
    "# Preprocessing object\n",
    "GB_Sim = PP(SimulationData)\n",
    "\n",
    "# Create the input file Simul+\"_in.hdf5\" file\n",
    "GB_Sim.WriteInputFile()"
   ]
  },
  {
   "cell_type": "code",
   "execution_count": 11,
   "metadata": {},
   "outputs": [],
   "source": [
    "# Create the output file Simul+\"_out.hdf5\" file\n",
    "GB_Sim.WriteOutputFile(OVERWRITE=True, FLUX=True, AVFLUX=True)"
   ]
  },
  {
   "cell_type": "markdown",
   "metadata": {},
   "source": [
    "### Generate xdmf visualization file"
   ]
  },
  {
   "cell_type": "code",
   "execution_count": 12,
   "metadata": {},
   "outputs": [
    {
     "data": {
      "text/plain": [
       "<PostProcessing.WriteXDMF at 0x7f061259ef00>"
      ]
     },
     "execution_count": 12,
     "metadata": {},
     "output_type": "execute_result"
    }
   ],
   "source": [
    "WriteXDMF(Simul, elementName, nSteps+1, \"Transport2D\", FLUX=True)"
   ]
  }
 ],
 "metadata": {
  "kernelspec": {
   "display_name": "phimats",
   "language": "python",
   "name": "python3"
  },
  "language_info": {
   "codemirror_mode": {
    "name": "ipython",
    "version": 3
   },
   "file_extension": ".py",
   "mimetype": "text/x-python",
   "name": "python",
   "nbconvert_exporter": "python",
   "pygments_lexer": "ipython3",
   "version": "3.12.7"
  }
 },
 "nbformat": 4,
 "nbformat_minor": 2
}
